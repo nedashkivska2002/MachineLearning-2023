{
  "cells": [
    {
      "cell_type": "markdown",
      "id": "f4dcabe2",
      "metadata": {
        "id": "f4dcabe2"
      },
      "source": [
        "# Завдання №1 "
      ]
    },
    {
      "cell_type": "markdown",
      "id": "8bc31f3a",
      "metadata": {
        "id": "8bc31f3a"
      },
      "source": [
        "## Завдання 1 \" Конструкції Python\"\n"
      ]
    },
    {
      "cell_type": "code",
      "execution_count": 2,
      "id": "9d544d43",
      "metadata": {
        "colab": {
          "base_uri": "https://localhost:8080/"
        },
        "id": "9d544d43",
        "outputId": "18a2092f-8f12-484a-9586-1bed88eede33"
      },
      "outputs": [
        {
          "output_type": "stream",
          "name": "stdout",
          "text": [
            "Тип змінної x: <class 'int'>\n",
            "Тип змінної y: <class 'float'>\n",
            "Тип змінної s: <class 'str'>\n",
            "Тип змінної a: <class 'list'>\n",
            "Тип змінної b: <class 'bool'>\n",
            "Тип змінної t: <class 'tuple'>\n"
          ]
        }
      ],
      "source": [
        "x = 10\n",
        "y = 12.5\n",
        "s = \"Недашківська Т.\"\n",
        "a = [x, y, s]\n",
        "b = False\n",
        "t = (y, \"Str\")\n",
        "\n",
        "print(\"Тип змінної x:\", type(x))\n",
        "print(\"Тип змінної y:\", type(y))\n",
        "print(\"Тип змінної s:\", type(s))\n",
        "print(\"Тип змінної a:\", type(a))\n",
        "print(\"Тип змінної b:\", type(b))\n",
        "print(\"Тип змінної t:\", type(t))"
      ]
    },
    {
      "cell_type": "code",
      "execution_count": 3,
      "id": "b273600c",
      "metadata": {
        "colab": {
          "base_uri": "https://localhost:8080/"
        },
        "id": "b273600c",
        "outputId": "42fc69a3-795c-41ef-ddaf-b300310584ac"
      },
      "outputs": [
        {
          "output_type": "stream",
          "name": "stdout",
          "text": [
            "22.5\n",
            "-2.5\n",
            "0.8\n",
            "10.0\n",
            "125.0\n",
            "0.0\n",
            "3162277660168.3794\n"
          ]
        }
      ],
      "source": [
        "print(x+y)\n",
        "print(x-y)\n",
        "print(x/y)\n",
        "print(x%y)\n",
        "print(x*y)\n",
        "print(x//y)\n",
        "print(x**y)"
      ]
    },
    {
      "cell_type": "code",
      "execution_count": 4,
      "id": "f3346388",
      "metadata": {
        "colab": {
          "base_uri": "https://localhost:8080/"
        },
        "id": "f3346388",
        "outputId": "4900fee3-2667-4b57-f6e6-82cd101924f3"
      },
      "outputs": [
        {
          "output_type": "stream",
          "name": "stdout",
          "text": [
            "False\n",
            "True\n",
            "False\n",
            "True\n",
            "True\n",
            "False\n"
          ]
        }
      ],
      "source": [
        "print(x==y)\n",
        "print(x!=y)\n",
        "print(x>y)\n",
        "print(x<y)\n",
        "print(x<=y)\n",
        "print(x>=y)"
      ]
    },
    {
      "cell_type": "code",
      "execution_count": 5,
      "id": "606bb2d2",
      "metadata": {
        "colab": {
          "base_uri": "https://localhost:8080/"
        },
        "id": "606bb2d2",
        "outputId": "4e39be22-1273-49d0-99a4-46000a6bb6cd"
      },
      "outputs": [
        {
          "output_type": "stream",
          "name": "stdout",
          "text": [
            "10\n",
            "(12.5, 'Str')\n",
            "10\n",
            "10.0\n",
            "12.5\n"
          ]
        }
      ],
      "source": [
        "print(str(x))\n",
        "print(str(t))\n",
        "print(int(x))\n",
        "print(float(x))\n",
        "print(float(y))"
      ]
    },
    {
      "cell_type": "markdown",
      "id": "272a14a9",
      "metadata": {
        "id": "272a14a9"
      },
      "source": [
        "## Завдання 3 \"Введення/вивід з консолі\""
      ]
    },
    {
      "cell_type": "code",
      "execution_count": 6,
      "id": "ec2ebce3",
      "metadata": {
        "colab": {
          "base_uri": "https://localhost:8080/"
        },
        "id": "ec2ebce3",
        "outputId": "cd8d80e4-ee56-4340-9f49-df3ab91b14b1"
      },
      "outputs": [
        {
          "name": "stdout",
          "output_type": "stream",
          "text": [
            "10\n"
          ]
        }
      ],
      "source": [
        "e = float(input())\n"
      ]
    },
    {
      "cell_type": "code",
      "execution_count": 7,
      "id": "a6dc40f8",
      "metadata": {
        "colab": {
          "base_uri": "https://localhost:8080/"
        },
        "id": "a6dc40f8",
        "outputId": "c69c3989-5d83-45e1-d773-b33e5f3d396e"
      },
      "outputs": [
        {
          "output_type": "stream",
          "name": "stdout",
          "text": [
            "100000.0\n"
          ]
        }
      ],
      "source": [
        "print(e**5)"
      ]
    },
    {
      "cell_type": "code",
      "execution_count": 8,
      "id": "4867ab61",
      "metadata": {
        "colab": {
          "base_uri": "https://localhost:8080/"
        },
        "id": "4867ab61",
        "outputId": "e4db954c-cb65-401e-b8be-2192a960134d"
      },
      "outputs": [
        {
          "output_type": "stream",
          "name": "stdout",
          "text": [
            "Тетяна Недашківська\n",
            "2+3 -> 5\n"
          ]
        }
      ],
      "source": [
        "name = \"Тетяна\"\n",
        "surname = \"Недашківська\"\n",
        "print (name, surname)\n",
        "print(\"2+3\", 5, sep=\" -> \")\n"
      ]
    },
    {
      "cell_type": "markdown",
      "id": "94b22648",
      "metadata": {
        "id": "94b22648"
      },
      "source": [
        "У функції print() символ , розділяє аргументи функції, які відображаються в окремих рядках, а аргумент sep визначає роздільник між ними."
      ]
    },
    {
      "cell_type": "code",
      "execution_count": 11,
      "id": "f179ccfd",
      "metadata": {
        "colab": {
          "base_uri": "https://localhost:8080/"
        },
        "id": "f179ccfd",
        "outputId": "f65e8a72-b8c0-4504-935d-625645f31259"
      },
      "outputs": [
        {
          "output_type": "stream",
          "name": "stdout",
          "text": [
            "Тетяна Недашківська - це студент\n",
            "Результат буде = 8.0\n",
            "Тетяна - True дівчина!\n",
            "Недашківська Тетяна\n"
          ]
        }
      ],
      "source": [
        "print(\"{} {} - це студент\".format(name, surname))\n",
        "print(\"Результат буде = {}\".format(20 / 5 + 4))\n",
        "b = True\n",
        "print(\"{} - {} дівчина!\".format(name, b))\n",
        "print(\"{} {}\".format(surname, name))"
      ]
    },
    {
      "cell_type": "markdown",
      "id": "8e79c84c",
      "metadata": {
        "id": "8e79c84c"
      },
      "source": [
        "## Завдання 4 \"Керування обчисленнями\"\n"
      ]
    },
    {
      "cell_type": "code",
      "execution_count": 15,
      "id": "79d1dbab",
      "metadata": {
        "colab": {
          "base_uri": "https://localhost:8080/"
        },
        "id": "79d1dbab",
        "outputId": "6651076a-9f66-4fcc-b05c-ec75a32fed98"
      },
      "outputs": [
        {
          "output_type": "stream",
          "name": "stdout",
          "text": [
            "Введи x: 35\n",
            "35.0\n",
            "1225.0\n",
            "35.0\n"
          ]
        }
      ],
      "source": [
        "x = float(input(\"Введи x: \"))\n",
        "\n",
        "# ----- 1 ----------\n",
        "if x > 5:\n",
        "    print (x)\n",
        "    \n",
        "# ----- 2 ----------    \n",
        "if -5 < x < 5 :\n",
        "    print (x)\n",
        "else:\n",
        "    print (x ** 2)\n",
        "    \n",
        "# ----- 3 ----------\n",
        "if x > -5:\n",
        "    print (x)\n",
        "elif -5 < x < 5:\n",
        "    print (x ** 2)\n",
        "elif x > 5:\n",
        "    print (x ** (1/2))"
      ]
    },
    {
      "cell_type": "markdown",
      "id": "74983d60",
      "metadata": {
        "id": "74983d60"
      },
      "source": [
        "*x* = -10 Спрацював лише другий if з умовою else\n",
        "\n",
        "x = 35 Спрацювали всі if без else (у 2 if виконалась else умова)\n",
        "\n",
        "x = 4 Спрацювали 2 if перша умова та 3 if перша умова"
      ]
    },
    {
      "cell_type": "code",
      "execution_count": 16,
      "id": "c6be1173",
      "metadata": {
        "colab": {
          "base_uri": "https://localhost:8080/"
        },
        "id": "c6be1173",
        "outputId": "d2f3febf-e724-4cd3-f90a-eefbd52723df"
      },
      "outputs": [
        {
          "output_type": "stream",
          "name": "stdout",
          "text": [
            "Твій вік 5\n",
            "малятко\n"
          ]
        }
      ],
      "source": [
        "age = int(input(\"Твій вік \"))\n",
        "if 0 <= age <=6:\n",
        "    print('малятко')\n",
        "elif 7<= age <=17:\n",
        "    print('школяр')\n",
        "else:\n",
        "    print('студент')\n"
      ]
    },
    {
      "cell_type": "code",
      "execution_count": 17,
      "id": "7556a851",
      "metadata": {
        "colab": {
          "base_uri": "https://localhost:8080/"
        },
        "id": "7556a851",
        "outputId": "e719a7e5-0948-4515-9eb1-925200419481"
      },
      "outputs": [
        {
          "output_type": "stream",
          "name": "stdout",
          "text": [
            "-1\n",
            "-3\n",
            "-5\n",
            "-7\n",
            "-9\n"
          ]
        }
      ],
      "source": [
        "for i in range(10):\n",
        "    if i % 2 != 0:\n",
        "        print (-i)\n",
        "    else:\n",
        "        pass"
      ]
    },
    {
      "cell_type": "markdown",
      "id": "adb0a28e",
      "metadata": {
        "id": "adb0a28e"
      },
      "source": [
        "Даний код знаходиться всередині циклу for, який виконується 10 разів, кожен раз створюється змінна і. Потім перевіряєтсья умова: якшо число не парне - число виводиться на екран з мінусом."
      ]
    },
    {
      "cell_type": "code",
      "execution_count": 18,
      "id": "2ded6b3d",
      "metadata": {
        "colab": {
          "base_uri": "https://localhost:8080/"
        },
        "id": "2ded6b3d",
        "outputId": "6d64ebfe-6c1c-4a51-e8e3-1d5a746acc06"
      },
      "outputs": [
        {
          "output_type": "stream",
          "name": "stdout",
          "text": [
            "1665\n"
          ]
        }
      ],
      "source": [
        "sum = 0\n",
        "for i in range(10, 101):\n",
        "    if i % 3 == 0:\n",
        "        sum += i\n",
        "print(sum)"
      ]
    },
    {
      "cell_type": "code",
      "execution_count": 19,
      "id": "7b51aba7",
      "metadata": {
        "colab": {
          "base_uri": "https://localhost:8080/"
        },
        "id": "7b51aba7",
        "outputId": "4fbee8e2-33db-47a4-9a45-b52c90fb67c0"
      },
      "outputs": [
        {
          "name": "stdout",
          "output_type": "stream",
          "text": [
            "тисни тут: 1000\n",
            "було введено\n",
            "тисни тут: 100\n",
            "було введено\n",
            "тисни тут: 0\n"
          ]
        }
      ],
      "source": [
        "while(input(\"тисни тут: \") != '0'):\n",
        "    print (\"було введено\")"
      ]
    },
    {
      "cell_type": "markdown",
      "id": "4ee3659b",
      "metadata": {
        "id": "4ee3659b"
      },
      "source": [
        "Цей код запускає нескінченний цикл, доки користувач не введе '0'"
      ]
    },
    {
      "cell_type": "code",
      "execution_count": 20,
      "id": "57d50c06",
      "metadata": {
        "colab": {
          "base_uri": "https://localhost:8080/"
        },
        "id": "57d50c06",
        "outputId": "e8f340ea-c8be-4745-bedf-4fead6c25136"
      },
      "outputs": [
        {
          "output_type": "stream",
          "name": "stdout",
          "text": [
            "1665\n"
          ]
        }
      ],
      "source": [
        "i = 10\n",
        "total = 0\n",
        "while i <= 100:\n",
        "    if i % 3 == 0:\n",
        "        total += i\n",
        "    i += 1\n",
        "print(total)"
      ]
    },
    {
      "cell_type": "markdown",
      "id": "5988c9cb",
      "metadata": {
        "id": "5988c9cb"
      },
      "source": [
        "# Завдання №2\n"
      ]
    },
    {
      "cell_type": "markdown",
      "id": "ec9c2a02",
      "metadata": {
        "id": "ec9c2a02"
      },
      "source": [
        "## Завдання 1 \"Операції над списками\"\n",
        " "
      ]
    },
    {
      "cell_type": "code",
      "execution_count": 22,
      "id": "22b3c58f",
      "metadata": {
        "colab": {
          "base_uri": "https://localhost:8080/"
        },
        "id": "22b3c58f",
        "outputId": "ca22e796-a793-45df-c42f-a9281d8ad7ae"
      },
      "outputs": [
        {
          "output_type": "stream",
          "name": "stdout",
          "text": [
            "140645949038080\n"
          ]
        }
      ],
      "source": [
        "i_am = []\n",
        "i_am.append('Тетяна')\n",
        "print(id(i_am))"
      ]
    },
    {
      "cell_type": "code",
      "execution_count": 23,
      "id": "7161a16e",
      "metadata": {
        "colab": {
          "base_uri": "https://localhost:8080/"
        },
        "id": "7161a16e",
        "outputId": "21a8080e-cd20-4241-a002-4d47b717809e"
      },
      "outputs": [
        {
          "output_type": "stream",
          "name": "stdout",
          "text": [
            "['Тетяна', 'Недашківська'] 140645949038080\n"
          ]
        }
      ],
      "source": [
        "i_am.append('Недашківська')\n",
        "print(i_am, id(i_am))"
      ]
    },
    {
      "cell_type": "markdown",
      "id": "be2e6f21",
      "metadata": {
        "id": "be2e6f21"
      },
      "source": [
        "## Завданяя 2 \"Срізи в списках\" \n"
      ]
    },
    {
      "cell_type": "code",
      "execution_count": 24,
      "id": "fe8cf561",
      "metadata": {
        "colab": {
          "base_uri": "https://localhost:8080/"
        },
        "id": "fe8cf561",
        "outputId": "b9704294-3313-4647-c83a-11492215ebec"
      },
      "outputs": [
        {
          "output_type": "stream",
          "name": "stdout",
          "text": [
            "[1, 2, 3, 4]\n",
            "[7, 8, 9, 10]\n",
            "2\n",
            "4\n",
            "6\n",
            "8\n",
            "10\n"
          ]
        }
      ],
      "source": [
        "my_list = [1, 2, 3, 4, 5, 6, 7, 8, 9, 10]\n",
        "print(my_list[:4])\n",
        "print(my_list[-4:])\n",
        "for num in my_list:\n",
        "    if num % 2 == 0:\n",
        "        print(num)"
      ]
    },
    {
      "cell_type": "code",
      "execution_count": 25,
      "id": "8874e320",
      "metadata": {
        "colab": {
          "base_uri": "https://localhost:8080/"
        },
        "id": "8874e320",
        "outputId": "641b3ccc-279a-4216-8759-881846e2cb45"
      },
      "outputs": [
        {
          "output_type": "stream",
          "name": "stdout",
          "text": [
            "[[1, 2, 3], [777, 5, 6], [7, 8, 9]]\n"
          ]
        }
      ],
      "source": [
        "my_list = [[1, 2, 3], [4, 5, 6], [7, 8, 9]]\n",
        "my_list[1][0] = 777\n",
        "print(my_list)"
      ]
    },
    {
      "cell_type": "code",
      "execution_count": 26,
      "id": "b0ea58ad",
      "metadata": {
        "colab": {
          "base_uri": "https://localhost:8080/"
        },
        "id": "b0ea58ad",
        "outputId": "0a44a34b-4daa-40b3-d83d-00377183bf1f"
      },
      "outputs": [
        {
          "output_type": "stream",
          "name": "stdout",
          "text": [
            "[[1, 2, 5], [777, 3, 6], [7, 8, 9]]\n"
          ]
        }
      ],
      "source": [
        "my_list[0][2], my_list[1][1] = my_list[1][1], my_list[0][2]\n",
        "print(my_list)"
      ]
    },
    {
      "cell_type": "markdown",
      "id": "b347a74a",
      "metadata": {
        "id": "b347a74a"
      },
      "source": [
        "# Завдання №3 \"Операції з файлами\"\n"
      ]
    },
    {
      "cell_type": "markdown",
      "id": "43c3cb88",
      "metadata": {
        "id": "43c3cb88"
      },
      "source": [
        "## Завдання 1 \"Запис в файл\" "
      ]
    },
    {
      "cell_type": "code",
      "execution_count": 32,
      "id": "86b1211a",
      "metadata": {
        "id": "86b1211a"
      },
      "outputs": [],
      "source": [
        "file = open('my_file_.txt', 'w+')\n",
        "for i in range(1, 30):\n",
        "    file.write(f\"{i}-й рядок\\n\")\n",
        "file.close()"
      ]
    },
    {
      "cell_type": "markdown",
      "id": "ed4aea8b",
      "metadata": {
        "id": "ed4aea8b"
      },
      "source": [
        "## Завдання 2 \"Читання з файла\"  "
      ]
    },
    {
      "cell_type": "code",
      "execution_count": 34,
      "id": "3a9f4e17",
      "metadata": {
        "colab": {
          "base_uri": "https://localhost:8080/"
        },
        "id": "3a9f4e17",
        "outputId": "bc180313-487a-4c1e-94e0-1f918df32fe6"
      },
      "outputs": [
        {
          "output_type": "stream",
          "name": "stdout",
          "text": [
            "1-й рядок\n",
            "2-й рядок\n",
            "3-й рядок\n",
            "4-й рядок\n",
            "5-й рядок\n",
            "6-й рядок\n",
            "7-й рядок\n",
            "8-й рядок\n",
            "9-й рядок\n",
            "10-й рядок\n",
            "11-й рядок\n",
            "12-й рядок\n",
            "13-й рядок\n",
            "14-й рядок\n",
            "15-й рядок\n",
            "16-й рядок\n",
            "17-й рядок\n",
            "18-й рядок\n",
            "19-й рядок\n",
            "20-й рядок\n",
            "21-й рядок\n",
            "22-й рядок\n",
            "23-й рядок\n",
            "24-й рядок\n",
            "25-й рядок\n",
            "26-й рядок\n",
            "27-й рядок\n",
            "28-й рядок\n",
            "29-й рядок\n",
            "\n"
          ]
        }
      ],
      "source": [
        "file = open('my_file_.txt', 'r')\n",
        "for i in range(30):\n",
        "        print(file.readline().strip())\n",
        "file.close()"
      ]
    },
    {
      "cell_type": "markdown",
      "id": "f4e4ff18",
      "metadata": {
        "id": "f4e4ff18"
      },
      "source": [
        "## Завдання 2 \"Контекстні менеджери\"  "
      ]
    },
    {
      "cell_type": "code",
      "execution_count": 36,
      "id": "adb845d4",
      "metadata": {
        "colab": {
          "base_uri": "https://localhost:8080/"
        },
        "id": "adb845d4",
        "outputId": "b05bbe8f-ee03-47e4-e969-afa1887c0f5a"
      },
      "outputs": [
        {
          "output_type": "stream",
          "name": "stdout",
          "text": [
            "1-й рядок\n",
            "2-й рядок\n",
            "3-й рядок\n",
            "4-й рядок\n",
            "5-й рядок\n",
            "6-й рядок\n",
            "7-й рядок\n",
            "8-й рядок\n",
            "9-й рядок\n",
            "10-й рядок\n",
            "\n",
            "\n",
            "\n",
            "\n",
            "\n"
          ]
        }
      ],
      "source": [
        "with open('my_file.txt', 'r') as file:\n",
        "    for i in range(15):\n",
        "        print(file.readline().strip())"
      ]
    },
    {
      "cell_type": "code",
      "execution_count": null,
      "id": "8e7a6184",
      "metadata": {
        "id": "8e7a6184"
      },
      "outputs": [],
      "source": []
    }
  ],
  "metadata": {
    "kernelspec": {
      "display_name": "Python 3 (ipykernel)",
      "language": "python",
      "name": "python3"
    },
    "language_info": {
      "codemirror_mode": {
        "name": "ipython",
        "version": 3
      },
      "file_extension": ".py",
      "mimetype": "text/x-python",
      "name": "python",
      "nbconvert_exporter": "python",
      "pygments_lexer": "ipython3",
      "version": "3.10.9"
    },
    "toc": {
      "base_numbering": 1,
      "nav_menu": {},
      "number_sections": true,
      "sideBar": true,
      "skip_h1_title": false,
      "title_cell": "Table of Contents",
      "title_sidebar": "Contents",
      "toc_cell": false,
      "toc_position": {},
      "toc_section_display": true,
      "toc_window_display": false
    },
    "varInspector": {
      "cols": {
        "lenName": 16,
        "lenType": 16,
        "lenVar": 40
      },
      "kernels_config": {
        "python": {
          "delete_cmd_postfix": "",
          "delete_cmd_prefix": "del ",
          "library": "var_list.py",
          "varRefreshCmd": "print(var_dic_list())"
        },
        "r": {
          "delete_cmd_postfix": ") ",
          "delete_cmd_prefix": "rm(",
          "library": "var_list.r",
          "varRefreshCmd": "cat(var_dic_list()) "
        }
      },
      "types_to_exclude": [
        "module",
        "function",
        "builtin_function_or_method",
        "instance",
        "_Feature"
      ],
      "window_display": false
    },
    "colab": {
      "provenance": []
    }
  },
  "nbformat": 4,
  "nbformat_minor": 5
}