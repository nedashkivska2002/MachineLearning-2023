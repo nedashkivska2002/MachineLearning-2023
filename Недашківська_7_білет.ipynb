{
  "cells": [
    {
      "cell_type": "markdown",
      "metadata": {
        "id": "view-in-github",
        "colab_type": "text"
      },
      "source": [
        "<a href=\"https://colab.research.google.com/github/nedashkivska2002/MachineLearning-2023/blob/main/%D0%9D%D0%B5%D0%B4%D0%B0%D1%88%D0%BA%D1%96%D0%B2%D1%81%D1%8C%D0%BA%D0%B0_7_%D0%B1%D1%96%D0%BB%D0%B5%D1%82.ipynb\" target=\"_parent\"><img src=\"https://colab.research.google.com/assets/colab-badge.svg\" alt=\"Open In Colab\"/></a>"
      ]
    },
    {
      "cell_type": "code",
      "execution_count": 26,
      "id": "fa686af9",
      "metadata": {
        "id": "fa686af9"
      },
      "outputs": [],
      "source": [
        "import pandas as pd"
      ]
    },
    {
      "cell_type": "code",
      "source": [],
      "metadata": {
        "id": "TpSPky_EDob7"
      },
      "id": "TpSPky_EDob7",
      "execution_count": null,
      "outputs": []
    },
    {
      "cell_type": "code",
      "execution_count": 27,
      "id": "9fdf50d6",
      "metadata": {
        "id": "9fdf50d6"
      },
      "outputs": [],
      "source": [
        "# Завантаження даних з CSV-файлу\n",
        "dataset = pd.read_csv('sample_data/1 (1).csv')"
      ]
    },
    {
      "cell_type": "code",
      "execution_count": null,
      "id": "f785b7b8",
      "metadata": {
        "colab": {
          "base_uri": "https://localhost:8080/"
        },
        "id": "f785b7b8",
        "outputId": "e99bd365-57a4-432b-9290-bae7b65ecd45"
      },
      "outputs": [
        {
          "output_type": "stream",
          "name": "stdout",
          "text": [
            "             Car  Year\n",
            "0    Ford Fusion  2016\n",
            "1  Dodge Charger  1970\n",
            "2    Honda Civic  2010\n",
            "3   Toyota Supra  2020\n",
            "4     Land Rover  2022\n"
          ]
        }
      ],
      "source": [
        "# Виведення перших 5 рядків\n",
        "print(dataset.head(5))"
      ]
    },
    {
      "cell_type": "code",
      "execution_count": null,
      "id": "9863ae7c",
      "metadata": {
        "id": "9863ae7c"
      },
      "outputs": [],
      "source": [
        "# Групування даних за колонкою\n",
        "dataset.columns = dataset.columns.str.strip()\n",
        "grouped_data = dataset.groupby('Year')"
      ]
    },
    {
      "cell_type": "code",
      "execution_count": null,
      "id": "e11e56c3",
      "metadata": {
        "colab": {
          "base_uri": "https://localhost:8080/"
        },
        "id": "e11e56c3",
        "outputId": "238b9edf-5ea7-4852-e7da-a676922fcb5b"
      },
      "outputs": [
        {
          "output_type": "stream",
          "name": "stdout",
          "text": [
            "Група: 1970\n",
            "             Car  Year\n",
            "1  Dodge Charger  1970\n",
            "Група: 2010\n",
            "           Car  Year\n",
            "2  Honda Civic  2010\n",
            "Група: 2016\n",
            "           Car  Year\n",
            "0  Ford Fusion  2016\n",
            "Група: 2020\n",
            "            Car  Year\n",
            "3  Toyota Supra  2020\n",
            "Група: 2022\n",
            "          Car  Year\n",
            "4  Land Rover  2022\n"
          ]
        }
      ],
      "source": [
        "# Виведення результатів групування\n",
        "for group_name, group_data in grouped_data:\n",
        "    print(f\"Група: {group_name}\")\n",
        "    print(group_data)"
      ]
    }
  ],
  "metadata": {
    "kernelspec": {
      "display_name": "Python 3 (ipykernel)",
      "language": "python",
      "name": "python3"
    },
    "language_info": {
      "codemirror_mode": {
        "name": "ipython",
        "version": 3
      },
      "file_extension": ".py",
      "mimetype": "text/x-python",
      "name": "python",
      "nbconvert_exporter": "python",
      "pygments_lexer": "ipython3",
      "version": "3.10.9"
    },
    "toc": {
      "base_numbering": 1,
      "nav_menu": {},
      "number_sections": true,
      "sideBar": true,
      "skip_h1_title": false,
      "title_cell": "Table of Contents",
      "title_sidebar": "Contents",
      "toc_cell": false,
      "toc_position": {},
      "toc_section_display": true,
      "toc_window_display": false
    },
    "varInspector": {
      "cols": {
        "lenName": 16,
        "lenType": 16,
        "lenVar": 40
      },
      "kernels_config": {
        "python": {
          "delete_cmd_postfix": "",
          "delete_cmd_prefix": "del ",
          "library": "var_list.py",
          "varRefreshCmd": "print(var_dic_list())"
        },
        "r": {
          "delete_cmd_postfix": ") ",
          "delete_cmd_prefix": "rm(",
          "library": "var_list.r",
          "varRefreshCmd": "cat(var_dic_list()) "
        }
      },
      "types_to_exclude": [
        "module",
        "function",
        "builtin_function_or_method",
        "instance",
        "_Feature"
      ],
      "window_display": false
    },
    "colab": {
      "provenance": [],
      "include_colab_link": true
    }
  },
  "nbformat": 4,
  "nbformat_minor": 5
}